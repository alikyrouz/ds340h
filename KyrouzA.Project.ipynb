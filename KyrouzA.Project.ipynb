{
 "cells": [
  {
   "cell_type": "code",
   "execution_count": null,
   "id": "92d9c3d54840fa30",
   "metadata": {
    "ExecuteTime": {
     "end_time": "2024-11-15T00:01:32.558621Z",
     "start_time": "2024-11-15T00:01:32.528758Z"
    },
    "collapsed": false
   },
   "outputs": [],
   "source": [
    "import pandas as pd\n",
    "import numpy as np\n",
    "'''h'''"
   ]
  },
  {
   "cell_type": "code",
   "execution_count": null,
   "id": "initial_id",
   "metadata": {
    "ExecuteTime": {
     "end_time": "2024-11-15T00:01:37.836110Z",
     "start_time": "2024-11-15T00:01:34.554228Z"
    },
    "collapsed": true
   },
   "outputs": [],
   "source": [
    "trip_data_7_24= pd.read_csv('C:/Python/pythonfall24/202407-bluebikes-tripdata.csv')\n",
    "stations = pd.read_csv(\"C:/Python/pythonfall24/current_bluebikes_stations.csv\", header =1)"
   ]
  },
  {
   "cell_type": "code",
   "execution_count": null,
   "id": "4e489e6a37e30faf",
   "metadata": {
    "ExecuteTime": {
     "end_time": "2024-11-12T18:26:21.468654Z",
     "start_time": "2024-11-12T18:26:21.444041Z"
    },
    "collapsed": false
   },
   "outputs": [],
   "source": [
    "trip_data_7_24"
   ]
  },
  {
   "cell_type": "code",
   "execution_count": null,
   "id": "8036166c081e1ce3",
   "metadata": {
    "ExecuteTime": {
     "end_time": "2024-10-18T02:26:20.227944Z",
     "start_time": "2024-10-18T02:26:20.205444Z"
    },
    "collapsed": false
   },
   "outputs": [],
   "source": [
    "stations"
   ]
  },
  {
   "cell_type": "code",
   "execution_count": null,
   "id": "51fcf9407f1c2959",
   "metadata": {
    "ExecuteTime": {
     "end_time": "2024-10-18T02:04:40.321637Z",
     "start_time": "2024-10-18T02:04:40.315494Z"
    },
    "collapsed": false
   },
   "outputs": [],
   "source": [
    "''' \n",
    "station starts at max capacity -- number of total docks\n",
    "\n",
    "each time a station is interacted with, retrieve last interaction w station, then:\n",
    "    subtract 1 each time trip leaves from station \n",
    "    add 1 each time trip ends at station \n",
    "\n",
    "for each interaction with station, add to column in row current count of bikes in station after interaction has occured\n",
    "\n",
    "'''"
   ]
  },
  {
   "cell_type": "code",
   "execution_count": null,
   "id": "3172e162ef33adda",
   "metadata": {
    "ExecuteTime": {
     "end_time": "2024-11-15T03:32:39.828363Z",
     "start_time": "2024-11-15T03:32:39.821312Z"
    },
    "collapsed": false
   },
   "outputs": [],
   "source": [
    "'''replace NAs'''\n",
    "def clean_nas(stations, fillVal):\n",
    "    naIndices = stations.index[stations['Total Docks'].isna()].tolist()\n",
    "    for ii in naIndices:\n",
    "        stations['Total Docks'][ii] = fillVal\n",
    "    return stations"
   ]
  },
  {
   "cell_type": "code",
   "execution_count": null,
   "id": "2b281bf3f0001ae7",
   "metadata": {
    "ExecuteTime": {
     "end_time": "2024-11-15T06:25:16.881150Z",
     "start_time": "2024-11-15T06:25:16.864598Z"
    },
    "collapsed": false
   },
   "outputs": [],
   "source": [
    "'''returns dictionary with info on each station in the dataset, the average total docks per station, and the values that each station should be updated to if their capacity leaves the reasonable range'''\n",
    "def make_station_info_dict(trip_data, station_data1):\n",
    "    \n",
    "    averageCap = 15 ###the mean and median of total dock space is 17 but this is round\n",
    "    fullAdjustment = 9*(averageCap/11)  ####i've decided im going to try to subtract this from the total and vv\n",
    "    emptyAdjustment = 9*(averageCap/11)\n",
    "    \n",
    "    station_data = clean_nas(station_data1, fillVal = averageCap)\n",
    "    \n",
    "    ##makes dictionary of station info based on info present in stations data file\n",
    "    stationInfo = {stations['NAME'][ii]: {'Total Capacity': int(stations['Total Docks'][ii])} for ii in range(len(stations))}\n",
    "   \n",
    "\n",
    "    for station in list(stationInfo): ##originally this was calculated after the dictionary was made\n",
    "            if (station in set(trip_data['start_station_name'])): #|(station in set(trip_data['end_station_name'])\n",
    "                #catching stations that don't actually occur in data\n",
    "                stationInfo[station]['Full Adjustment'] = 9*(stationInfo[station]['Total Capacity'])/11\n",
    "                stationInfo[station]['Empty Adjustment'] =  9*(stationInfo[station]['Total Capacity'])/11\n",
    "                stationInfo[station]['Current Capacity'] = 4*(stationInfo[station]['Total Capacity']/7) ## this makes the total amount of bikes in the system at start just under 5000\n",
    "                stationInfo[station]['Times Empty'] = 0\n",
    "                stationInfo[station]['Times Full'] =  0\n",
    "                stationInfo[station]['Total Rides'] = 0\n",
    "                stationInfo[station]['Member Rides'] = 0\n",
    "                stationInfo[station]['Electric Bike IN'] = 0\n",
    "                stationInfo[station]['Electric Bike OUT'] = 0\n",
    "                stationInfo[station]['Electric Bike and Member Rides'] = 0\n",
    "            else:\n",
    "                del stationInfo[station]\n",
    "\n",
    "        ##adds stations in trip_data that are not in station_data\n",
    "    for station in (trip_data['start_station_name']):\n",
    "        if station not in stationInfo:\n",
    "            stationInfo[station] = create_station_entry(station, averageCap, fullAdjustment, emptyAdjustment)\n",
    "    for station in (trip_data['end_station_name']):\n",
    "        if station not in stationInfo:\n",
    "            stationInfo[station] = create_station_entry(station, averageCap, fullAdjustment, emptyAdjustment)\n",
    "\n",
    "    #print(f' starting cap: {sum([stationInfo[station][\"Current Capacity\"] for station in stationInfo])}')\n",
    "    return stationInfo, averageCap, fullAdjustment, emptyAdjustment"
   ]
  },
  {
   "cell_type": "code",
   "execution_count": null,
   "id": "b331e4041352da4c",
   "metadata": {
    "ExecuteTime": {
     "end_time": "2024-11-15T06:25:15.142693Z",
     "start_time": "2024-11-15T06:25:15.119908Z"
    },
    "collapsed": false
   },
   "outputs": [],
   "source": [
    "'''takes in all columns of dataset, returns dataset with additional column of  bikes at each station after trip -- returns updated dataset (and station info dictionary for testing)'''\n",
    "\n",
    "def calc_bike_count(trip_data, stations):\n",
    "    stationInfo, averageCap, fullAdjustment, emptyAdjustment = make_station_info_dict(trip_data, stations)\n",
    "\n",
    "    for ii in range(0, len(trip_data)): #iterate through rows (each trip) in dataset\n",
    "        row = trip_data.iloc[ii]\n",
    "        start_station = row['start_station_name']\n",
    "        end_station = row['end_station_name']\n",
    "        \n",
    "        if row['rideable_type'] == 'electric_bike':\n",
    "            stationInfo[end_station]['Electric Bike IN'] += 1\n",
    "            stationInfo[start_station]['Electric Bike OUT'] += 1\n",
    "            if row['member_casual'] == 'member':    \n",
    "                stationInfo[start_station]['Electric Bike and Member Rides'] += 1 ##this is just start station for now\n",
    "        if row['member_casual'] == 'member':\n",
    "            stationInfo[start_station]['Member Rides'] += 1\n",
    "        \n",
    "        stationInfo[start_station]['Total Rides'] += 1\n",
    "        stationInfo[start_station]['Current Capacity'] -=1  \n",
    "        stationInfo[end_station]['Current Capacity'] += 1\n",
    "            \n",
    "        if stationInfo[start_station]['Current Capacity'] < 0: ### adjust to be within correct bounds\n",
    "            stationInfo[start_station]['Current Capacity'] = stationInfo[start_station][\"Empty Adjustment\"] \n",
    "            stationInfo[start_station]['Times Empty'] += 1\n",
    "\n",
    "        if stationInfo[end_station]['Current Capacity'] > stationInfo[end_station]['Total Capacity']:\n",
    "            stationInfo[end_station]['Current Capacity'] = (stationInfo[start_station][\"Total Capacity\"] - stationInfo[end_station]['Full Adjustment'])\n",
    "            stationInfo[end_station]['Times Full'] += 1\n",
    "    \n",
    "        trip_data.at[ii, 'start_station_capacity'] =  stationInfo[start_station]['Current Capacity'] ## add to trip data\n",
    "        trip_data.at[ii, 'end_station_capacity'] = stationInfo[end_station]['Current Capacity']\n",
    "\n",
    "    return trip_data, stationInfo"
   ]
  },
  {
   "cell_type": "code",
   "execution_count": null,
   "id": "ea49e75b4c44b638",
   "metadata": {
    "ExecuteTime": {
     "end_time": "2024-11-15T06:25:20.014581Z",
     "start_time": "2024-11-15T06:25:20.004648Z"
    },
    "collapsed": false
   },
   "outputs": [],
   "source": [
    "def create_station_entry(station, averageCap, fullAdjustment, emptyAdjustment): ## this is still being called in the function above for some entries\n",
    " ### creates station dictionary entry with average stats\n",
    "        return{'Total Capacity': averageCap, 'Current Capacity': 9, 'Full Adjustment': fullAdjustment, 'Empty Adjustment': emptyAdjustment, 'Times Empty': 0, 'Times Full': 0, 'Total Rides': 0, 'Member Rides': 0, 'Electric Bike IN':0, 'Electric Bike OUT': 0, 'Electric Bike and Member Rides': 0}"
   ]
  },
  {
   "cell_type": "code",
   "execution_count": null,
   "id": "b8182fe176f6b3da",
   "metadata": {
    "collapsed": false
   },
   "outputs": [],
   "source": [
    "###normalize bike count --> if trip will reduce to 0 count, return to full capacity? this feels wrong\n",
    "## but not sure how to understand this metric as is\n",
    "\n",
    "\n",
    "##how often go from 0 to -1 (this means at least one bike must be added)\n",
    "\n",
    "##OR restrict capacity count to reasonable range --- 0 and dock space per station\n",
    "\n",
    "## according to bluebikes media kit: by 2023, there were over 4000 bikes in the system\n",
    "### then, in the end of 2023, they added 750 electric bikes ---> there should only be ~5000 bikes in total at all stations at any given time\n",
    "\n",
    "##TESTING vvv"
   ]
  },
  {
   "cell_type": "code",
   "execution_count": null,
   "id": "fe674470dc4bf5ab",
   "metadata": {
    "ExecuteTime": {
     "end_time": "2024-11-15T06:26:55.668160Z",
     "start_time": "2024-11-15T06:25:21.817118Z"
    },
    "collapsed": false
   },
   "outputs": [],
   "source": [
    "trip_data, stations1 = calc_bike_count(trip_data_7_24, stations)"
   ]
  },
  {
   "cell_type": "code",
   "execution_count": null,
   "id": "4110ee5a85d52d6e",
   "metadata": {
    "ExecuteTime": {
     "end_time": "2024-11-15T00:17:03.744061Z",
     "start_time": "2024-11-15T00:17:03.734183Z"
    },
    "collapsed": false
   },
   "outputs": [],
   "source": [
    "#testing\n",
    "print('total total capacity: ', sum([stations1[station]['Total Capacity'] for station in stations1]))\n",
    "print('total current capacity: ', sum([stations1[station]['Current Capacity'] for station in stations1]))\n",
    "for station in stations1:\n",
    "    print(F\"{station}, member: {stations1[station]['Member Rides']}, both: {stations1[station]['Electric Bike and Member Rides']}\")\n",
    "    from statistics import median\n",
    "from statistics import mean\n",
    "print(median(stations['Total Docks']))\n",
    "print(mean(stations['Total Docks']))"
   ]
  },
  {
   "cell_type": "code",
   "execution_count": null,
   "id": "5a51d5d6e8254bbe",
   "metadata": {
    "ExecuteTime": {
     "end_time": "2024-11-15T06:27:09.586912Z",
     "start_time": "2024-11-15T06:27:04.696256Z"
    },
    "collapsed": false
   },
   "outputs": [],
   "source": [
    "## creating lists of the capacity of station after each ride, and the date/time of each ride, to graph\n",
    "cap_list = []\n",
    "date_time_list = []\n",
    "for ii in range(0, len(trip_data)):\n",
    "    if (trip_data.at[ii, 'start_station_name']== 'Kendall T'):\n",
    "        cap_list.append(trip_data.at[ii, 'start_station_capacity'])\n",
    "        date_time_list.append(trip_data.at[ii, 'started_at'])\n",
    "    elif (trip_data.at[ii, 'end_station_name']== 'Kendall T'):\n",
    "        cap_list.append(trip_data.at[ii, 'end_station_capacity'])\n",
    "        date_time_list.append(trip_data.at[ii, 'started_at'])"
   ]
  },
  {
   "cell_type": "code",
   "execution_count": null,
   "id": "db21368540fe989c",
   "metadata": {
    "ExecuteTime": {
     "end_time": "2024-11-15T06:27:13.489592Z",
     "start_time": "2024-11-15T06:27:13.482526Z"
    },
    "collapsed": false
   },
   "outputs": [],
   "source": [
    "from plotnine import (ggplot,\n",
    "                      aes,\n",
    "                      labs, geom_jitter, theme, element_text, geom_point, scale_color_brewer, geom_line,\n",
    "                      geom_bin_2d, geom_hline)"
   ]
  },
  {
   "cell_type": "code",
   "execution_count": null,
   "id": "f2092faf",
   "metadata": {},
   "outputs": [],
   "source": [
    "from matplotlib import pyplot\n",
    "import numpy as np"
   ]
  },
  {
   "cell_type": "code",
   "execution_count": null,
   "id": "d108f5f4bf771f43",
   "metadata": {
    "ExecuteTime": {
     "end_time": "2024-11-15T06:23:06.091394Z",
     "start_time": "2024-11-15T06:23:06.082049Z"
    },
    "collapsed": false
   },
   "outputs": [],
   "source": [
    "print(cap_list[0:100])"
   ]
  },
  {
   "cell_type": "code",
   "execution_count": null,
   "id": "45fb5bb6868ecaad",
   "metadata": {
    "ExecuteTime": {
     "end_time": "2024-11-15T06:41:09.013518Z",
     "start_time": "2024-11-15T06:41:08.449517Z"
    },
    "collapsed": false
   },
   "outputs": [],
   "source": [
    "plot1 =( (ggplot(aes(x = date_time_list[0:100], y = cap_list[0:100])) + geom_line(group = 1, color = '#8A2BE2') + geom_hline(yintercept = [0, stations1['Kendall T']['Total Capacity']], color = '#006400') + geom_hline(yintercept = [(stations1['Kendall T'][\"Total Capacity\"]-stations1['Kendall T']['Full Adjustment']), stations1['Kendall T']['Empty Adjustment']], linetype = 'dashed') + labs(x = 'Ride', y = 'Capacity', title = 'Capacity of Kendall T Dock (first 100 rides in July 2024)') + theme(axis_text_x = element_text(angle = 80, va = 'top', ha = 'right', rotation_mode = 'anchor'))).draw() )"
   ]
  },
  {
   "cell_type": "code",
   "execution_count": null,
   "id": "6e691435",
   "metadata": {},
   "outputs": [],
   "source": [
    "xPlt = np.array([date_time_list[0:100]]) #list(range(0, len(date_time_list[0:100])))\n",
    "yPlt = np.array([cap_list[0:100]])\n",
    "\n",
    "pyplot.scatter(xPlt, yPlt)\n",
    "pyplot.show()"
   ]
  },
  {
   "cell_type": "code",
   "execution_count": null,
   "id": "aa1690118fda7c1c",
   "metadata": {
    "ExecuteTime": {
     "end_time": "2024-11-14T02:54:31.373572Z",
     "start_time": "2024-11-14T02:54:31.120783Z"
    },
    "collapsed": false
   },
   "outputs": [],
   "source": [
    "plot2 = (ggplot(aes(x = date_time_list[-100:-1], y = cap_list[-100:-1])) + geom_line(group = 1) +\n",
    " labs(x = 'Ride #', y = 'Capacity', title = 'Capacity of Kendall T (latest 100 days)') + theme(axis_text_x = element_text(angle = 80, va = 'top', ha = 'right', rotation_mode = 'anchor'))).draw()"
   ]
  },
  {
   "cell_type": "code",
   "execution_count": null,
   "id": "d88468edb917fa84",
   "metadata": {
    "ExecuteTime": {
     "end_time": "2024-11-15T06:41:10.685880Z",
     "start_time": "2024-11-15T06:41:10.676589Z"
    },
    "collapsed": false
   },
   "outputs": [],
   "source": [
    "ax = plot1.axes[0]\n",
    "xticks1 = ax.xaxis.get_major_ticks()\n",
    "for i, tick in enumerate(xticks1):\n",
    "    if i % 5 != 0:\n",
    "        tick.label1.set_visible(False)\n",
    "    else:\n",
    "        tick = str(i)"
   ]
  },
  {
   "cell_type": "code",
   "execution_count": null,
   "id": "ca56ad00",
   "metadata": {},
   "outputs": [],
   "source": [
    "plot1.xticks(ticks = list(range(0, 100)), labels = list(range(1,101)))"
   ]
  },
  {
   "cell_type": "code",
   "execution_count": null,
   "id": "27cd652777fbb9ad",
   "metadata": {
    "ExecuteTime": {
     "end_time": "2024-11-15T06:41:12.765599Z",
     "start_time": "2024-11-15T06:41:12.370945Z"
    },
    "collapsed": false
   },
   "outputs": [],
   "source": [
    "plot1"
   ]
  },
  {
   "cell_type": "code",
   "execution_count": null,
   "id": "1a9a3fd10eca2aee",
   "metadata": {
    "ExecuteTime": {
     "end_time": "2024-11-15T06:41:23.241172Z",
     "start_time": "2024-11-15T06:41:22.537742Z"
    },
    "collapsed": false
   },
   "outputs": [],
   "source": [
    "\n",
    "plt1\n",
    "#plot1"
   ]
  },
  {
   "cell_type": "code",
   "execution_count": null,
   "id": "f4a28bf83a4f1d6d",
   "metadata": {
    "ExecuteTime": {
     "end_time": "2024-11-15T00:23:46.226629Z",
     "start_time": "2024-11-15T00:23:46.211171Z"
    },
    "collapsed": false
   },
   "outputs": [],
   "source": [
    "ax = plot2.axes[0]\n",
    "xticks2 = ax.xaxis.get_major_ticks()\n",
    "for i, tick in enumerate(xticks2):\n",
    "    if i % 5 != 0:\n",
    "        tick.label1.set_visible(False)"
   ]
  },
  {
   "cell_type": "code",
   "execution_count": null,
   "id": "4c79c2d3de48e22d",
   "metadata": {
    "ExecuteTime": {
     "end_time": "2024-11-15T00:23:48.897188Z",
     "start_time": "2024-11-15T00:23:48.580114Z"
    },
    "collapsed": false
   },
   "outputs": [],
   "source": [
    "plot2.savefig('plot2')\n",
    "plot2"
   ]
  },
  {
   "cell_type": "code",
   "execution_count": null,
   "id": "933b580cc18f45f0",
   "metadata": {
    "ExecuteTime": {
     "end_time": "2024-11-15T04:19:00.448847Z",
     "start_time": "2024-11-15T04:19:00.441188Z"
    },
    "collapsed": false
   },
   "outputs": [],
   "source": [
    "# features\n",
    "def add_feats(trip_data, stations):\n",
    "    stationCounts = trip_data['start_station_name'].value_counts()\n",
    "    \n",
    "    for station in set(trip_data['start_station_name']):\n",
    "        \n",
    "            ##total number of rides out of station\n",
    "            \n",
    "           ## print(stations['NAME'].loc['Centre St at Allandale St'])\n",
    "           # break\n",
    "            #print(stations[station])\n",
    "            #print(stationCounts[station])\n",
    "        stations[station]['Total Rides'] = stationCounts[station]\n",
    "            ## average # of bikes available ---  sum of current capacity/total rides\n",
    "            ## frequency empty\n",
    "            ## frequency full\n",
    "            ## proportion of rides w/ electric bikes -- # electric rides/total rides\n",
    "    return stations"
   ]
  },
  {
   "cell_type": "code",
   "execution_count": null,
   "id": "1b268b6f9cdc4de7",
   "metadata": {
    "ExecuteTime": {
     "end_time": "2024-11-15T04:13:07.952528Z",
     "start_time": "2024-11-15T04:13:07.918727Z"
    },
    "collapsed": false
   },
   "outputs": [],
   "source": [
    "#print(set(trip_data['start_station_name']))\n",
    "#(set(stations1))\n",
    "print(list(stations1.keys())[-10])\n",
    "print(stations1['nan'])"
   ]
  },
  {
   "cell_type": "code",
   "execution_count": null,
   "id": "97d49f0796066df9",
   "metadata": {
    "ExecuteTime": {
     "end_time": "2024-11-15T04:19:14.133798Z",
     "start_time": "2024-11-15T04:19:14.039412Z"
    },
    "collapsed": false
   },
   "outputs": [],
   "source": [
    "print(len(set(trip_data['start_station_name'])))\n",
    "print(len(set(stations1)))"
   ]
  },
  {
   "cell_type": "code",
   "execution_count": null,
   "id": "6d102fa7e13d9361",
   "metadata": {
    "ExecuteTime": {
     "end_time": "2024-11-15T03:54:20.792012Z",
     "start_time": "2024-11-15T03:53:55.638895Z"
    },
    "collapsed": false
   },
   "outputs": [],
   "source": [
    "c = []\n",
    "for val in set(stations1):\n",
    "\n",
    "    # Check if the current value is not in list 'b'\n",
    "    if val not in set(trip_data['start_station_name']):\n",
    "\n",
    "        # If it's not in 'b', append it to list 'c'\n",
    "        c.append(val)\n",
    "\n",
    "print(c)"
   ]
  },
  {
   "cell_type": "code",
   "execution_count": null,
   "id": "f5a105db42f7fe38",
   "metadata": {
    "ExecuteTime": {
     "end_time": "2024-11-15T04:07:05.062204Z",
     "start_time": "2024-11-15T04:07:05.026663Z"
    },
    "collapsed": false
   },
   "outputs": [],
   "source": [
    "print(stations1['nan'])"
   ]
  },
  {
   "cell_type": "code",
   "execution_count": null,
   "id": "7ebfb9d65e8f40de",
   "metadata": {
    "ExecuteTime": {
     "end_time": "2024-11-15T04:18:44.754279Z",
     "start_time": "2024-11-15T04:18:44.521226Z"
    },
    "collapsed": false
   },
   "outputs": [],
   "source": [
    "print(add_feats(trip_data, stations1))"
   ]
  },
  {
   "cell_type": "code",
   "execution_count": null,
   "id": "a9b6d17221b03c8c",
   "metadata": {
    "ExecuteTime": {
     "end_time": "2024-11-15T04:57:55.375016Z",
     "start_time": "2024-11-15T04:57:55.346682Z"
    },
    "collapsed": false
   },
   "outputs": [],
   "source": [
    "### make dataframe with features for model\n",
    "feats = pd.DataFrame.from_dict(stations1, orient = 'index')\n",
    "feats = feats.drop('Total Rides', axis = 1)\n",
    "feats = feats.drop('Member Rides', axis = 1)\n",
    "feats = feats.drop('Electric Bike and Member Rides', axis = 1)\n",
    "feats = feats.drop('Full Adjustment', axis = 1)\n",
    "feats = feats.drop('Empty Adjustment', axis = 1)\n",
    "feats = feats.drop('Current Capacity', axis = 1)\n",
    "feats"
   ]
  },
  {
   "cell_type": "code",
   "execution_count": null,
   "id": "f9ed03a26e4fa28d",
   "metadata": {
    "ExecuteTime": {
     "end_time": "2024-11-15T04:57:58.307323Z",
     "start_time": "2024-11-15T04:57:58.298803Z"
    },
    "collapsed": false
   },
   "outputs": [],
   "source": [
    "labels = []\n",
    "for station in stations1:\n",
    "    if (stations1[station]['Total Rides']) == 0:\n",
    "        label = 0\n",
    "    else:\n",
    "        label = (stations1[station]['Member Rides'])/(stations1[station]['Total Rides'])\n",
    "    labels.append(label)\n"
   ]
  },
  {
   "cell_type": "code",
   "execution_count": null,
   "id": "24495a70",
   "metadata": {},
   "outputs": [],
   "source": [
    "for station in feats.index:\n",
    "    print(station)\n",
    "    break"
   ]
  },
  {
   "cell_type": "code",
   "execution_count": null,
   "id": "69a6c620",
   "metadata": {},
   "outputs": [],
   "source": [
    "#get proportion of electric rides to regular\n",
    "# get total rides by station\n",
    "for station in feats.index:\n",
    "    trips = trip_data.loc[trip_data['start_station_name'] == station]\n",
    "    feats.loc[station, 'total trips'] = len(trips) ## total trips at station in month\n",
    "\n",
    "    electricRides = trips.loc[trips['rideable_type'] == 'electric_bike']\n",
    "    if len(trips) == 0:\n",
    "        propElectric = 0\n",
    "\n",
    "    else:\n",
    "        propElectric = len(electricRides)/len(trips)\n",
    "    \n",
    "    feats.loc[station, 'propElectric'] = propElectric\n",
    "\n",
    "\n"
   ]
  },
  {
   "cell_type": "code",
   "execution_count": null,
   "id": "10d1c531",
   "metadata": {},
   "outputs": [],
   "source": [
    "feats = feats.drop('Electric Bike IN', axis = 1)\n",
    "feats = feats.drop('Electric Bike OUT', axis = 1)"
   ]
  },
  {
   "cell_type": "code",
   "execution_count": null,
   "id": "20fd36b7be3dfa71",
   "metadata": {
    "ExecuteTime": {
     "end_time": "2024-11-15T04:58:00.228018Z",
     "start_time": "2024-11-15T04:58:00.219002Z"
    },
    "collapsed": false
   },
   "outputs": [],
   "source": [
    "#from sklearn.preprocessing import StandardScaler\n",
    "from sklearn.model_selection import train_test_split\n",
    "from sklearn.linear_model import LinearRegression"
   ]
  },
  {
   "cell_type": "code",
   "execution_count": null,
   "id": "82fbfc78e7f13d0c",
   "metadata": {
    "ExecuteTime": {
     "end_time": "2024-11-15T04:58:01.642759Z",
     "start_time": "2024-11-15T04:58:01.608382Z"
    },
    "collapsed": false
   },
   "outputs": [],
   "source": [
    "X_train, X_test, y_train, y_test = train_test_split(feats, labels, test_size=0.20)\n",
    "\n",
    "linearReg = LinearRegression()\n",
    "linearReg.fit(X_train, y_train)\n",
    "linearReg.score(X_test, y_test)"
   ]
  },
  {
   "cell_type": "code",
   "execution_count": 64,
   "id": "988843a7cc6f9fd0",
   "metadata": {
    "ExecuteTime": {
     "end_time": "2024-11-15T04:58:07.248723Z",
     "start_time": "2024-11-15T04:58:07.239572Z"
    },
    "collapsed": false
   },
   "outputs": [
    {
     "data": {
      "text/plain": [
       "array(['Total Capacity', 'Times Empty', 'Times Full', 'total trips',\n",
       "       'propElectric'], dtype=object)"
      ]
     },
     "execution_count": 64,
     "metadata": {},
     "output_type": "execute_result"
    }
   ],
   "source": [
    "linearReg.feature_names_in_"
   ]
  },
  {
   "cell_type": "code",
   "execution_count": 65,
   "id": "dedce8b2149f29c6",
   "metadata": {
    "ExecuteTime": {
     "end_time": "2024-11-15T04:58:09.501386Z",
     "start_time": "2024-11-15T04:58:09.481520Z"
    },
    "collapsed": false
   },
   "outputs": [
    {
     "data": {
      "text/plain": [
       "array([ 0.01288683,  0.00357464, -0.00034351, -0.0001788 , -0.04992968])"
      ]
     },
     "execution_count": 65,
     "metadata": {},
     "output_type": "execute_result"
    }
   ],
   "source": [
    "linearReg.coef_"
   ]
  },
  {
   "cell_type": "code",
   "execution_count": null,
   "id": "bb210cf6",
   "metadata": {},
   "outputs": [],
   "source": [
    "preds = linearReg.predict(X_test)\n",
    "preds"
   ]
  },
  {
   "cell_type": "code",
   "execution_count": null,
   "id": "53401212",
   "metadata": {},
   "outputs": [],
   "source": [
    "predPlot =( (ggplot(aes(x = date_time_list[0:100], y = cap_list[0:100])) + geom_line(group = 1, color = '#8A2BE2') + geom_hline(yintercept = [0, stations1['Kendall T']['Total Capacity']], color = '#006400') + geom_hline(yintercept = [(stations1['Kendall T'][\"Total Capacity\"]-stations1['Kendall T']['Full Adjustment']), stations1['Kendall T']['Empty Adjustment']], linetype = 'dashed') + labs(x = 'Ride', y = 'Capacity', title = 'Capacity of Kendall T Dock (first 100 rides in July 2024)') + theme(axis_text_x = element_text(angle = 80, va = 'top', ha = 'right', rotation_mode = 'anchor'))).draw() )"
   ]
  },
  {
   "cell_type": "code",
   "execution_count": null,
   "id": "62fbd0ec",
   "metadata": {},
   "outputs": [],
   "source": [
    "from matplotlib import pyplot as plt\n",
    "import matplotlib"
   ]
  },
  {
   "cell_type": "code",
   "execution_count": null,
   "id": "2428a21a",
   "metadata": {},
   "outputs": [],
   "source": [
    "stations_plot = feats.index.astype(str)"
   ]
  },
  {
   "cell_type": "code",
   "execution_count": 54,
   "id": "395ad1f0",
   "metadata": {},
   "outputs": [
    {
     "ename": "AttributeError",
     "evalue": "'PathCollection' object has no attribute 'scatter'",
     "output_type": "error",
     "traceback": [
      "\u001b[1;31m---------------------------------------------------------------------------\u001b[0m",
      "\u001b[1;31mAttributeError\u001b[0m                            Traceback (most recent call last)",
      "Cell \u001b[1;32mIn[54], line 4\u001b[0m\n\u001b[0;32m      2\u001b[0m ax1 \u001b[38;5;241m=\u001b[39m plt\u001b[38;5;241m.\u001b[39msubplot(\u001b[38;5;241m111\u001b[39m)\n\u001b[0;32m      3\u001b[0m ax1 \u001b[38;5;241m=\u001b[39m ax1\u001b[38;5;241m.\u001b[39mscatter(X_test\u001b[38;5;241m.\u001b[39mindex, y_test, label \u001b[38;5;241m=\u001b[39m \u001b[38;5;124m'\u001b[39m\u001b[38;5;124mactual\u001b[39m\u001b[38;5;124m'\u001b[39m, marker \u001b[38;5;241m=\u001b[39m \u001b[38;5;124m'\u001b[39m\u001b[38;5;124mo\u001b[39m\u001b[38;5;124m'\u001b[39m, color \u001b[38;5;241m=\u001b[39m \u001b[38;5;124m'\u001b[39m\u001b[38;5;124mb\u001b[39m\u001b[38;5;124m'\u001b[39m, s \u001b[38;5;241m=\u001b[39m \u001b[38;5;241m10\u001b[39m)\n\u001b[1;32m----> 4\u001b[0m ax1 \u001b[38;5;241m=\u001b[39m ax1\u001b[38;5;241m.\u001b[39mscatter(X_test\u001b[38;5;241m.\u001b[39mindex, preds_plot, label \u001b[38;5;241m=\u001b[39m \u001b[38;5;124m'\u001b[39m\u001b[38;5;124mpredicted\u001b[39m\u001b[38;5;124m'\u001b[39m, marker \u001b[38;5;241m=\u001b[39m \u001b[38;5;124m'\u001b[39m\u001b[38;5;124ms\u001b[39m\u001b[38;5;124m'\u001b[39m, color \u001b[38;5;241m=\u001b[39m \u001b[38;5;124m'\u001b[39m\u001b[38;5;124mr\u001b[39m\u001b[38;5;124m'\u001b[39m, s \u001b[38;5;241m=\u001b[39m \u001b[38;5;241m10\u001b[39m)\n\u001b[0;32m      5\u001b[0m p \u001b[38;5;241m=\u001b[39m plt\u001b[38;5;241m.\u001b[39mlegend()\n\u001b[0;32m      6\u001b[0m p \u001b[38;5;241m=\u001b[39m plt\u001b[38;5;241m.\u001b[39mgrid(\u001b[38;5;28;01mTrue\u001b[39;00m)\n",
      "\u001b[1;31mAttributeError\u001b[0m: 'PathCollection' object has no attribute 'scatter'"
     ]
    },
    {
     "data": {
      "image/png": "[encoded data removed]",
      "text/plain": [
       "<Figure size 640x480 with 1 Axes>"
      ]
     },
     "metadata": {},
     "output_type": "display_data"
    }
   ],
   "source": [
    "p = plt.figure()\n",
    "ax1 = plt.subplot(111)\n",
    "ax1 = ax1.scatter(X_test.index, y_test, label = 'actual', marker = 'o', color = 'b', s = 10)\n",
    "ax1 = ax1.scatter(X_test.index, preds_plot, label = 'predicted', marker = 's', color = 'r', s = 10)\n",
    "p = plt.legend()\n",
    "p = plt.grid(True)\n",
    "p = plt.show()"
   ]
  },
  {
   "cell_type": "code",
   "execution_count": 63,
   "id": "3397f1ea",
   "metadata": {},
   "outputs": [
    {
     "name": "stderr",
     "output_type": "stream",
     "text": [
      "C:\\Users\\aliky\\AppData\\Local\\Temp\\ipykernel_13344\\2827748048.py:9: UserWarning: FigureCanvasAgg is non-interactive, and thus cannot be shown\n"
     ]
    },
    {
     "data": {
      "image/png": "[encoded data removed]",
      "text/plain": [
       "<Figure size 640x480 with 1 Axes>"
      ]
     },
     "metadata": {},
     "output_type": "display_data"
    }
   ],
   "source": [
    "#matplotlib.use('TkAgg')\n",
    "%matplotlib inline\n",
    "ax2 = plt.subplot(111)\n",
    "ax2.scatter(X_test.index, y_test, label = 'actual', marker = 'o', color = 'b', s = 10)\n",
    "ax2.scatter(X_test.index, preds, label = 'predicted', marker = 's', color = 'r', s = 10)\n",
    "plt.title(\"Proportion of Member Rides by Station\")\n",
    "plt.xticks(rotation=90, fontsize = 2)\n",
    "plt.legend()\n",
    "ax2.figure.show()"
   ]
  }
 ],
 "metadata": {
  "kernelspec": {
   "display_name": "base",
   "language": "python",
   "name": "python3"
  },
  "language_info": {
   "codemirror_mode": {
    "name": "ipython",
    "version": 3
   },
   "file_extension": ".py",
   "mimetype": "text/x-python",
   "name": "python",
   "nbconvert_exporter": "python",
   "pygments_lexer": "ipython3",
   "version": "3.11.5"
  }
 },
 "nbformat": 4,
 "nbformat_minor": 5
}
